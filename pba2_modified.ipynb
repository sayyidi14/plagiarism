{
 "cells": [
  {
   "cell_type": "code",
   "execution_count": 1,
   "id": "fd4269cc",
   "metadata": {},
   "outputs": [
    {
     "name": "stdout",
     "output_type": "stream",
     "text": [
      "Requirement already satisfied: numpy in /Library/Frameworks/Python.framework/Versions/3.9/lib/python3.9/site-packages (1.22.4)\n",
      "Requirement already satisfied: scikit-learn in /Library/Frameworks/Python.framework/Versions/3.9/lib/python3.9/site-packages (1.3.2)\n",
      "Requirement already satisfied: nltk in /Library/Frameworks/Python.framework/Versions/3.9/lib/python3.9/site-packages (3.8.1)\n",
      "Requirement already satisfied: pandas in /Library/Frameworks/Python.framework/Versions/3.9/lib/python3.9/site-packages (2.0.3)\n",
      "Requirement already satisfied: scipy>=1.5.0 in /Library/Frameworks/Python.framework/Versions/3.9/lib/python3.9/site-packages (from scikit-learn) (1.11.4)\n",
      "Requirement already satisfied: threadpoolctl>=2.0.0 in /Library/Frameworks/Python.framework/Versions/3.9/lib/python3.9/site-packages (from scikit-learn) (3.2.0)\n",
      "Requirement already satisfied: joblib>=1.1.1 in /Library/Frameworks/Python.framework/Versions/3.9/lib/python3.9/site-packages (from scikit-learn) (1.3.2)\n",
      "Requirement already satisfied: tqdm in /Library/Frameworks/Python.framework/Versions/3.9/lib/python3.9/site-packages (from nltk) (4.66.1)\n",
      "Requirement already satisfied: regex>=2021.8.3 in /Library/Frameworks/Python.framework/Versions/3.9/lib/python3.9/site-packages (from nltk) (2023.8.8)\n",
      "Requirement already satisfied: click in /Library/Frameworks/Python.framework/Versions/3.9/lib/python3.9/site-packages (from nltk) (8.1.7)\n",
      "Requirement already satisfied: tzdata>=2022.1 in /Library/Frameworks/Python.framework/Versions/3.9/lib/python3.9/site-packages (from pandas) (2023.3)\n",
      "Requirement already satisfied: python-dateutil>=2.8.2 in /Users/sayyidimakhdum/Library/Python/3.9/lib/python/site-packages (from pandas) (2.8.2)\n",
      "Requirement already satisfied: pytz>=2020.1 in /Library/Frameworks/Python.framework/Versions/3.9/lib/python3.9/site-packages (from pandas) (2023.3)\n",
      "Requirement already satisfied: six>=1.5 in /Users/sayyidimakhdum/Library/Python/3.9/lib/python/site-packages (from python-dateutil>=2.8.2->pandas) (1.16.0)\n",
      "\u001b[33mWARNING: You are using pip version 22.0.4; however, version 24.0 is available.\n",
      "You should consider upgrading via the '/usr/local/bin/python3 -m pip install --upgrade pip' command.\u001b[0m\u001b[33m\n",
      "\u001b[0mNote: you may need to restart the kernel to use updated packages.\n"
     ]
    }
   ],
   "source": [
    "pip install numpy scikit-learn nltk pandas"
   ]
  },
  {
   "cell_type": "code",
   "execution_count": 17,
   "id": "2cb32138",
   "metadata": {},
   "outputs": [],
   "source": [
    "import numpy as np\n",
    "import pandas as pd\n",
    "from sklearn.feature_extraction.text import TfidfVectorizer\n",
    "from sklearn.svm import SVC\n",
    "from sklearn.metrics.pairwise import cosine_similarity\n",
    "from sklearn.model_selection import train_test_split\n",
    "from sklearn.metrics import accuracy_score\n",
    "import re\n",
    "import nltk\n",
    "from nltk.corpus import stopwords\n",
    "from nltk.stem import PorterStemmer\n",
    "from nltk.tokenize import word_tokenize\n",
    "import streamlit as st"
   ]
  },
  {
   "cell_type": "code",
   "execution_count": 18,
   "id": "b8d2472d",
   "metadata": {},
   "outputs": [
    {
     "name": "stderr",
     "output_type": "stream",
     "text": [
      "[nltk_data] Error loading punkt: <urlopen error [SSL:\n",
      "[nltk_data]     CERTIFICATE_VERIFY_FAILED] certificate verify failed:\n",
      "[nltk_data]     unable to get local issuer certificate (_ssl.c:1129)>\n",
      "[nltk_data] Error loading stopwords: <urlopen error [SSL:\n",
      "[nltk_data]     CERTIFICATE_VERIFY_FAILED] certificate verify failed:\n",
      "[nltk_data]     unable to get local issuer certificate (_ssl.c:1129)>\n"
     ]
    }
   ],
   "source": [
    "# Download stopwords dan tokenizer dari NLTK\n",
    "nltk.download('punkt')\n",
    "nltk.download('stopwords')\n",
    "\n",
    "# Inisialisasi stemmer dan stopwords\n",
    "stemmer = PorterStemmer()\n",
    "stop_words = set(stopwords.words('indonesian'))"
   ]
  },
  {
   "cell_type": "code",
   "execution_count": 19,
   "id": "de9f1a19",
   "metadata": {},
   "outputs": [],
   "source": [
    "def preprocess_text(text):\n",
    "    # Step 1: Cleaning data\n",
    "    cleaned_text = re.sub(r'[^a-zA-Z\\s]', '', text)\n",
    "    \n",
    "    # Step 2: Convert to lower case\n",
    "    lower_case_text = cleaned_text.lower()\n",
    "    \n",
    "    # Step 3: Tokenization\n",
    "    tokens = word_tokenize(lower_case_text)\n",
    "    \n",
    "    # Step 4: Stopword removal\n",
    "    tokens_without_stopwords = [word for word in tokens if word not in stop_words]\n",
    "    \n",
    "    # Step 5: Stemming\n",
    "    stemmed_tokens = [stemmer.stem(word) for word in tokens_without_stopwords]\n",
    "    \n",
    "    # Join tokens back to string\n",
    "    processed_text = ' '.join(stemmed_tokens)\n",
    "    \n",
    "    return processed_text"
   ]
  },
  {
   "cell_type": "code",
   "execution_count": 20,
   "id": "f3ff5684",
   "metadata": {},
   "outputs": [],
   "source": [
    "# Membaca dokumen dari file CSV\n",
    "df = pd.read_csv('coba.csv')\n",
    "documents = df['reviews'].tolist()"
   ]
  },
  {
   "cell_type": "code",
   "execution_count": 21,
   "id": "22878573",
   "metadata": {},
   "outputs": [],
   "source": [
    "# Preprocessing dokumen\n",
    "processed_docs = [preprocess_text(doc) for doc in documents]"
   ]
  },
  {
   "cell_type": "code",
   "execution_count": 22,
   "id": "cda6c8b5",
   "metadata": {},
   "outputs": [],
   "source": [
    "# Mengubah teks menjadi fitur TF-IDF\n",
    "vectorizer = TfidfVectorizer()\n",
    "X = vectorizer.fit_transform(processed_docs)"
   ]
  },
  {
   "cell_type": "code",
   "execution_count": 23,
   "id": "49ccd08e",
   "metadata": {},
   "outputs": [],
   "source": [
    "# Pastikan `y` memiliki setidaknya dua kelas yang berbeda\n",
    "y = df['label']\n",
    "\n",
    "# Membagi data menjadi data pelatihan dan pengujian\n",
    "X_train, X_test, y_train, y_test = train_test_split(X, y, test_size=0.2, random_state=42)"
   ]
  },
  {
   "cell_type": "code",
   "execution_count": 24,
   "id": "52cc1d41",
   "metadata": {},
   "outputs": [],
   "source": [
    "# Membuat pasangan dokumen untuk perbandingan\n",
    "num_docs = len(documents)\n",
    "pairs = [(i, j) for i in range(num_docs) for j in range(i + 1, num_docs)]"
   ]
  },
  {
   "cell_type": "code",
   "execution_count": 25,
   "id": "3a443ede",
   "metadata": {},
   "outputs": [],
   "source": [
    "# Menghitung kesamaan kosinus untuk setiap pasangan\n",
    "similarities = []\n",
    "labels = []\n",
    "threshold = 0.5\n",
    "\n",
    "for (i, j) in pairs:\n",
    "    similarity = cosine_similarity(X[i], X[j])[0][0]\n",
    "    similarities.append(similarity)\n",
    "    labels.append(1 if similarity > threshold else 0)"
   ]
  },
  {
   "cell_type": "code",
   "execution_count": 26,
   "id": "2fbbb1d6",
   "metadata": {},
   "outputs": [],
   "source": [
    "# Membagi data menjadi fitur (X) dan label (y)\n",
    "X_pairs = np.array(similarities).reshape(-1, 1)\n",
    "y_pairs = np.array(labels)"
   ]
  },
  {
   "cell_type": "code",
   "execution_count": 27,
   "id": "ab2085f2",
   "metadata": {},
   "outputs": [
    {
     "data": {
      "text/html": [
       "<style>#sk-container-id-2 {color: black;}#sk-container-id-2 pre{padding: 0;}#sk-container-id-2 div.sk-toggleable {background-color: white;}#sk-container-id-2 label.sk-toggleable__label {cursor: pointer;display: block;width: 100%;margin-bottom: 0;padding: 0.3em;box-sizing: border-box;text-align: center;}#sk-container-id-2 label.sk-toggleable__label-arrow:before {content: \"▸\";float: left;margin-right: 0.25em;color: #696969;}#sk-container-id-2 label.sk-toggleable__label-arrow:hover:before {color: black;}#sk-container-id-2 div.sk-estimator:hover label.sk-toggleable__label-arrow:before {color: black;}#sk-container-id-2 div.sk-toggleable__content {max-height: 0;max-width: 0;overflow: hidden;text-align: left;background-color: #f0f8ff;}#sk-container-id-2 div.sk-toggleable__content pre {margin: 0.2em;color: black;border-radius: 0.25em;background-color: #f0f8ff;}#sk-container-id-2 input.sk-toggleable__control:checked~div.sk-toggleable__content {max-height: 200px;max-width: 100%;overflow: auto;}#sk-container-id-2 input.sk-toggleable__control:checked~label.sk-toggleable__label-arrow:before {content: \"▾\";}#sk-container-id-2 div.sk-estimator input.sk-toggleable__control:checked~label.sk-toggleable__label {background-color: #d4ebff;}#sk-container-id-2 div.sk-label input.sk-toggleable__control:checked~label.sk-toggleable__label {background-color: #d4ebff;}#sk-container-id-2 input.sk-hidden--visually {border: 0;clip: rect(1px 1px 1px 1px);clip: rect(1px, 1px, 1px, 1px);height: 1px;margin: -1px;overflow: hidden;padding: 0;position: absolute;width: 1px;}#sk-container-id-2 div.sk-estimator {font-family: monospace;background-color: #f0f8ff;border: 1px dotted black;border-radius: 0.25em;box-sizing: border-box;margin-bottom: 0.5em;}#sk-container-id-2 div.sk-estimator:hover {background-color: #d4ebff;}#sk-container-id-2 div.sk-parallel-item::after {content: \"\";width: 100%;border-bottom: 1px solid gray;flex-grow: 1;}#sk-container-id-2 div.sk-label:hover label.sk-toggleable__label {background-color: #d4ebff;}#sk-container-id-2 div.sk-serial::before {content: \"\";position: absolute;border-left: 1px solid gray;box-sizing: border-box;top: 0;bottom: 0;left: 50%;z-index: 0;}#sk-container-id-2 div.sk-serial {display: flex;flex-direction: column;align-items: center;background-color: white;padding-right: 0.2em;padding-left: 0.2em;position: relative;}#sk-container-id-2 div.sk-item {position: relative;z-index: 1;}#sk-container-id-2 div.sk-parallel {display: flex;align-items: stretch;justify-content: center;background-color: white;position: relative;}#sk-container-id-2 div.sk-item::before, #sk-container-id-2 div.sk-parallel-item::before {content: \"\";position: absolute;border-left: 1px solid gray;box-sizing: border-box;top: 0;bottom: 0;left: 50%;z-index: -1;}#sk-container-id-2 div.sk-parallel-item {display: flex;flex-direction: column;z-index: 1;position: relative;background-color: white;}#sk-container-id-2 div.sk-parallel-item:first-child::after {align-self: flex-end;width: 50%;}#sk-container-id-2 div.sk-parallel-item:last-child::after {align-self: flex-start;width: 50%;}#sk-container-id-2 div.sk-parallel-item:only-child::after {width: 0;}#sk-container-id-2 div.sk-dashed-wrapped {border: 1px dashed gray;margin: 0 0.4em 0.5em 0.4em;box-sizing: border-box;padding-bottom: 0.4em;background-color: white;}#sk-container-id-2 div.sk-label label {font-family: monospace;font-weight: bold;display: inline-block;line-height: 1.2em;}#sk-container-id-2 div.sk-label-container {text-align: center;}#sk-container-id-2 div.sk-container {/* jupyter's `normalize.less` sets `[hidden] { display: none; }` but bootstrap.min.css set `[hidden] { display: none !important; }` so we also need the `!important` here to be able to override the default hidden behavior on the sphinx rendered scikit-learn.org. See: https://github.com/scikit-learn/scikit-learn/issues/21755 */display: inline-block !important;position: relative;}#sk-container-id-2 div.sk-text-repr-fallback {display: none;}</style><div id=\"sk-container-id-2\" class=\"sk-top-container\"><div class=\"sk-text-repr-fallback\"><pre>SVC(kernel=&#x27;linear&#x27;)</pre><b>In a Jupyter environment, please rerun this cell to show the HTML representation or trust the notebook. <br />On GitHub, the HTML representation is unable to render, please try loading this page with nbviewer.org.</b></div><div class=\"sk-container\" hidden><div class=\"sk-item\"><div class=\"sk-estimator sk-toggleable\"><input class=\"sk-toggleable__control sk-hidden--visually\" id=\"sk-estimator-id-2\" type=\"checkbox\" checked><label for=\"sk-estimator-id-2\" class=\"sk-toggleable__label sk-toggleable__label-arrow\">SVC</label><div class=\"sk-toggleable__content\"><pre>SVC(kernel=&#x27;linear&#x27;)</pre></div></div></div></div></div>"
      ],
      "text/plain": [
       "SVC(kernel='linear')"
      ]
     },
     "execution_count": 27,
     "metadata": {},
     "output_type": "execute_result"
    }
   ],
   "source": [
    "# Melatih model SVM\n",
    "model_svm = SVC(kernel='linear')\n",
    "model_svm.fit(X_pairs, y_pairs)"
   ]
  },
  {
   "cell_type": "code",
   "execution_count": 13,
   "id": "f92ac3d6",
   "metadata": {},
   "outputs": [],
   "source": [
    "# Fungsi untuk mendeteksi plagiarisme antar dokumen baru menggunakan SVM\n",
    "def detect_plagiarism_svm(sentence, docs):\n",
    "    processed_sentence = preprocess_text(sentence)\n",
    "    processed_docs = [preprocess_text(doc) for doc in docs]\n",
    "    \n",
    "    all_docs = processed_docs + [processed_sentence]\n",
    "    X_all = vectorizer.transform(all_docs)\n",
    "    \n",
    "    new_similarities = [cosine_similarity(X_all[i], X_all[-1])[0][0] for i in range(len(docs))]\n",
    "    \n",
    "    new_X_pairs = np.array(new_similarities).reshape(-1, 1)\n",
    "    predictions = model_svm.predict(new_X_pairs)\n",
    "    \n",
    "    return predictions"
   ]
  },
  {
   "cell_type": "code",
   "execution_count": 14,
   "id": "89ba5628",
   "metadata": {},
   "outputs": [],
   "source": [
    "# Fungsi untuk mendeteksi plagiarisme menggunakan model SVM\n",
    "def detect_plagiarism_svm(sentence, documents):\n",
    "    # Preprocess the new sentence\n",
    "    processed_sentence = preprocess_text(sentence)\n",
    "    \n",
    "    # Transform the processed sentence to TF-IDF vector\n",
    "    sentence_vector = vectorizer.transform([processed_sentence])\n",
    "    \n",
    "    # Predict similarity with each document\n",
    "    similarities = cosine_similarity(sentence_vector, X)\n",
    "    \n",
    "    # Binarize the similarity results\n",
    "    threshold = 0.5  # You can adjust the threshold based on your needs\n",
    "    predictions = (similarities >= threshold).astype(int).flatten()\n",
    "    \n",
    "    return predictions"
   ]
  },
  {
   "cell_type": "code",
   "execution_count": 15,
   "id": "e9525201",
   "metadata": {},
   "outputs": [
    {
     "name": "stdout",
     "output_type": "stream",
     "text": [
      "Deteksi menggunakan SVM:\n",
      "Kalimat tersebut mirip dengan dokumen 8\n",
      "Kalimat tersebut mirip dengan dokumen 127\n",
      "Kalimat tersebut mirip dengan dokumen 141\n"
     ]
    }
   ],
   "source": [
    "# Contoh penggunaan deteksi plagiarisme\n",
    "new_sentence = \"pantainya bagus\"\n",
    "\n",
    "print(\"Deteksi menggunakan SVM:\")\n",
    "predictions_svm = detect_plagiarism_svm(new_sentence, documents)\n",
    "similar_documents = [i for i, pred in enumerate(predictions_svm) if pred == 1]\n",
    "\n",
    "if similar_documents:\n",
    "    for doc_idx in similar_documents:\n",
    "        print(f\"Kalimat tersebut mirip dengan dokumen {doc_idx+1}\")\n",
    "else:\n",
    "    print(\"Tidak ada dokumen yang mirip\")"
   ]
  },
  {
   "cell_type": "code",
   "execution_count": 16,
   "id": "055c73db",
   "metadata": {},
   "outputs": [
    {
     "name": "stdout",
     "output_type": "stream",
     "text": [
      "\n",
      "Akurasi model SVM: 100.00%\n"
     ]
    }
   ],
   "source": [
    "# Evaluasi model SVM\n",
    "X_train, X_test, y_train, y_test = train_test_split(X_pairs, y_pairs, test_size=0.2, random_state=42)\n",
    "model_svm.fit(X_train, y_train)\n",
    "y_pred = model_svm.predict(X_test)\n",
    "accuracy = accuracy_score(y_test, y_pred)\n",
    "print(f\"\\nAkurasi model SVM: {accuracy * 100:.2f}%\")"
   ]
  },
  {
   "cell_type": "code",
   "execution_count": null,
   "id": "ebe997e9",
   "metadata": {},
   "outputs": [],
   "source": []
  },
  {
   "cell_type": "code",
   "execution_count": null,
   "id": "32eb7107",
   "metadata": {},
   "outputs": [],
   "source": []
  }
 ],
 "metadata": {
  "kernelspec": {
   "display_name": "Python 3 (ipykernel)",
   "language": "python",
   "name": "python3"
  },
  "language_info": {
   "codemirror_mode": {
    "name": "ipython",
    "version": 3
   },
   "file_extension": ".py",
   "mimetype": "text/x-python",
   "name": "python",
   "nbconvert_exporter": "python",
   "pygments_lexer": "ipython3",
   "version": "3.9.13"
  }
 },
 "nbformat": 4,
 "nbformat_minor": 5
}
